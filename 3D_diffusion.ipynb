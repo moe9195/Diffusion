{
 "cells": [
  {
   "cell_type": "markdown",
   "metadata": {},
   "source": [
    " # Gray-Scott Model for Reaction-Diffusion in 3-D\n",
    " \n",
    "We implement the Gray-Scott model in three dimensions. This involves adding another dimension to the 2-D grid used in the 2 dimensional case. This extra dimension, however, adds difficulties in computation and visualisation. \n",
    "\n",
    "The mathematical model for the three dimensional case is the same as the two dimensional case, where the concentrations of A and B are updated following the system of equations:\n",
    "\n",
    "$$A' = A + (D_{A}\\nabla^{2}A - AB^{2} + f(1-A))\\Delta t$$\n",
    "and\n",
    "$$B' = B + (D_{b}\\nabla^{2}B + AB^{2} - (k+f)B)\\Delta t$$\n",
    "\n",
    "The diffusion operator $\\nabla^2$ needs to be modified to three dimensions. This can be done using a 3D kernel. Here, we use an unbiased kernel with a centre value of -1 and surrounding values of 1/26. Other kernels can be used for different results.\n",
    "\n",
    "The numpy arrays are then converted to VTK files for and visualised with [Paraview](https://www.paraview.org/).\n",
    "\n",
    "\n",
    "\n",
    "<video controls src=\"animation.mp4\" />"
   ]
  },
  {
   "cell_type": "code",
   "execution_count": 50,
   "metadata": {},
   "outputs": [],
   "source": [
    "# import relevant libraries\n",
    "import numpy as np\n",
    "from scipy import ndimage\n",
    "from pyevtk.hl import imageToVTK\n",
    "import numpy as np\n",
    "import os, re, math\n",
    "from pyevtk.vtk import VtkGroup\n"
   ]
  },
  {
   "cell_type": "code",
   "execution_count": 52,
   "metadata": {},
   "outputs": [],
   "source": [
    "# f, k are feed and kill rate, stoptime is the stop time, width is the size of the 3D output\n",
    "# where the size is equal to width x width x width\n",
    "def diffusion_3D(f, k, stoptime, width):\n",
    "    # da and db = diffusion rates, dt = time step, t = starting time\n",
    "    da,db,dt,t = .24,.12,1,0\n",
    "\n",
    "    # 3x3x3 kernel for convolution\n",
    "    kernel = np.array([[[1/26, 1/26, 1/26],[1/26, 1/26, 1/26], [1/26, 1/26, 1/26]],\n",
    "                     [[1/26, 1/26, 1/26],[1/26, -1, 1/26], [1/26, 1/26, 1/26]],\n",
    "                     [[1/26, 1/26, 1/26],[1/26, 1/26, 1/26], [1/26, 1/26, 1/26]]])\n",
    "\n",
    "    # initialise the grid, A=1,  B=0, and C=0\n",
    "    A = np.ones([width,width,width])\n",
    "    B = np.zeros([width,width,width])\n",
    "    C = np.zeros([width,width,width])\n",
    "\n",
    "    # add small seed area\n",
    "    x = int(width/2)\n",
    "    B[x:x+1+int(math.ceil(width/64)),x:x+1+int(math.ceil(width/64)),x:x+1+int(math.ceil(width/64))] = 1\n",
    "\n",
    "    # update the grid using the diffusion equations\n",
    "    count = 1\n",
    "    while t<stoptime:\n",
    "        A += (da*ndimage.convolve(A,kernel,mode='reflect',cval=0.0) - A*B**2 + f*(1-A))*dt\n",
    "        B += (db*ndimage.convolve(B,kernel,mode='reflect',cval=0.0) + A*B**2 - (k+f)*B)*dt\n",
    "        if t%50 == 0 or t==0:\n",
    "            np.save('./images3d/A/'+str(count)+'.npy', A)\n",
    "            np.save('./images3d/B/'+str(count)+'.npy', B)\n",
    "            count+=1\n",
    "        t +=  dt\n",
    "    return A, B\n",
    "\n",
    "# sorts list numerically\n",
    "def numericalSort(list):\n",
    "    def key(value):\n",
    "        numbers = re.compile(r'(\\d+)')\n",
    "        parts = numbers.split(value)\n",
    "        parts[1::2] = map(int, parts[1::2])\n",
    "        return parts\n",
    "    return sorted(list, key=key)\n",
    "\n",
    "# convert numpy arrays to VTK and add them to PVD group\n",
    "def convert_to_vtk_group(directory, data_type, output_directory):\n",
    "    filelist = numericalSort(os.listdir(directory))\n",
    "    g = VtkGroup(\"./group\")\n",
    "    time = 0\n",
    "    if data_type == 'image':\n",
    "        for file in filelist:\n",
    "            temp = np.load(directory+'/'+file)\n",
    "            imageToVTK(output_directory + '/' + file[:-4], cellData = {'data': temp})\n",
    "            g.addFile(filepath = output_directory + '/' + file[:-4]+'.vti', sim_time = time)\n",
    "            time += 1\n",
    "    g.save()"
   ]
  },
  {
   "cell_type": "code",
   "execution_count": 103,
   "metadata": {},
   "outputs": [],
   "source": [
    "# compute the diffusion arrays and convert to VTK\n",
    "A, B = diffusion_3D(.032, .065, 10000, 128)\n",
    "directory = './images3d/A'\n",
    "output_directory = './vtk_files'\n",
    "convert_to_vtk_group(directory, 'image', output_directory)"
   ]
  }
 ],
 "metadata": {
  "kernelspec": {
   "display_name": "oceanography",
   "language": "python",
   "name": "oceanography"
  },
  "language_info": {
   "codemirror_mode": {
    "name": "ipython",
    "version": 3
   },
   "file_extension": ".py",
   "mimetype": "text/x-python",
   "name": "python",
   "nbconvert_exporter": "python",
   "pygments_lexer": "ipython3",
   "version": "3.7.3"
  }
 },
 "nbformat": 4,
 "nbformat_minor": 2
}
