{
 "cells": [
  {
   "cell_type": "code",
   "execution_count": 1,
   "metadata": {},
   "outputs": [],
   "source": [
    "#Import relevant libraries\n",
    "%matplotlib inline\n",
    "import matplotlib.pyplot as plt\n",
    "import numpy as np\n",
    "from mpl_toolkits.mplot3d import Axes3D\n",
    "from scipy import ndimage\n",
    "from tvtk.api import tvtk\n",
    "from mayavi import mlab\n",
    "import math"
   ]
  },
  {
   "cell_type": "code",
   "execution_count": 5,
   "metadata": {},
   "outputs": [],
   "source": [
    "#da and db = diffusion rates, dt = time step, t = starting time\n",
    "da,db,dt,t = .24,.12,1,0\n",
    "width = 32\n",
    "stoptime = 1000\n",
    "f = .0367\n",
    "k = .0649\n",
    "\n",
    "\n",
    "#3x3 kernel for convolution\n",
    "        \n",
    "kernel = np.array([[[1/26, 1/26, 1/26],[1/26, 1/26, 1/26], [1/26, 1/26, 1/26]],\n",
    "                 [[1/26, 1/26, 1/26],[1/26, -1, 1/26], [1/26, 1/26, 1/26]],\n",
    "                 [[1/26, 1/26, 1/26],[1/26, 1/26, 1/26], [1/26, 1/26, 1/26]]])\n",
    "\n",
    "#initialise the grid, A=1,  B=0, and C=0\n",
    "A = np.ones([width,width,width])\n",
    "B = np.zeros([width,width,width])\n",
    "C = np.zeros([width,width,width])\n",
    "\n",
    "#add small seed area\n",
    "x = int(width/2)\n",
    "B[x:x+1+int(math.ceil(width/64)),x:x+1+int(math.ceil(width/64)),x:x+1+int(math.ceil(width/64))] = 1\n",
    "\n",
    "#update the grid using the diffusion equations\n",
    "while t<stoptime:      \n",
    "    A += (da*ndimage.convolve(A,kernel,mode='reflect',cval=0.0) - A*B**2 + f*(1-A))*dt\n",
    "    B += (db*ndimage.convolve(B,kernel,mode='reflect',cval=0.0) + A*B**2 - (k+f)*B)*dt\n",
    "    t +=  dt\n",
    "    \n",
    "    \n"
   ]
  },
  {
   "cell_type": "code",
   "execution_count": 4,
   "metadata": {},
   "outputs": [],
   "source": [
    "data = B\n",
    "mlab.contour3d(data)\n",
    "mlab.show()\n"
   ]
  },
  {
   "cell_type": "code",
   "execution_count": null,
   "metadata": {},
   "outputs": [],
   "source": []
  }
 ],
 "metadata": {
  "kernelspec": {
   "display_name": "Python (science)",
   "language": "python",
   "name": "science"
  },
  "language_info": {
   "codemirror_mode": {
    "name": "ipython",
    "version": 3
   },
   "file_extension": ".py",
   "mimetype": "text/x-python",
   "name": "python",
   "nbconvert_exporter": "python",
   "pygments_lexer": "ipython3",
   "version": "3.7.3"
  }
 },
 "nbformat": 4,
 "nbformat_minor": 2
}
